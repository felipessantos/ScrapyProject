{
 "cells": [
  {
   "cell_type": "markdown",
   "metadata": {},
   "source": [
    "# Scrapy "
   ]
  },
  {
   "cell_type": "code",
   "execution_count": null,
   "metadata": {},
   "outputs": [],
   "source": [
    "from bs4 import BeautifulSoup\n",
    "import requests\n",
    "import re\n",
    "import pandas as pd\n",
    "import numpy as ny"
   ]
  },
  {
   "cell_type": "code",
   "execution_count": null,
   "metadata": {},
   "outputs": [],
   "source": [
    "url_list = ['http://jokes.cc.com/joke-categories']\n",
    "response = requests.get(url_list[0]).text\n",
    "soup = BeautifulSoup(response, 'html.parser')"
   ]
  },
  {
   "cell_type": "code",
   "execution_count": null,
   "metadata": {},
   "outputs": [],
   "source": [
    "lista_aux = str(soup.find('ul', attrs={'class':'list_horiz'})).split(' ')"
   ]
  },
  {
   "cell_type": "code",
   "execution_count": null,
   "metadata": {},
   "outputs": [],
   "source": [
    "lista_url_categorias_piadas = []\n",
    "for l in lista_aux:\n",
    "    if l[:5] == 'href=':\n",
    "        lista_url_categorias_piadas.append(l[6:-1])"
   ]
  },
  {
   "cell_type": "code",
   "execution_count": null,
   "metadata": {},
   "outputs": [],
   "source": [
    "for url_categoria in [lista_url_categorias_piadas[-1]]:\n",
    "    response = requests.get(url_categoria).text\n",
    "    soup = BeautifulSoup(response, 'html.parser')\n",
    "    lista_aux = str(soup.find('div', attrs={'class':'module_content'})).split(' ')\n",
    "    lista_piadas = []\n",
    "    for l in lista_aux:\n",
    "        if l[:5] == 'href=':\n",
    "            url_piadas= l[6:re.search('\"><h3>', l).start()]\n",
    "            response = requests.get(url_piadas).text\n",
    "            soup = BeautifulSoup(response, 'html.parser')\n",
    "            piada = str(soup.find('div', attrs={'class':'content_wrap'}))\n",
    "            lista_piadas.append(piada)       \n",
    "    pd_lista_piadas = pd.DataFrame({l[20:]: lista_piadas})\n",
    "    nome = re.sub(':', '',(re.sub('/', '', url_categoria)))\n",
    "    file_name = '/Users/felipesantos/Desktop/resultado/'+nome+'.csv'\n",
    "    pd_lista_piadas.to_csv(file_name)"
   ]
  },
  {
   "cell_type": "markdown",
   "metadata": {},
   "source": [
    "## Multi-Class Text Classification with Scikit-Learn \n",
    "Susan Li"
   ]
  },
  {
   "cell_type": "markdown",
   "metadata": {},
   "source": [
    "https://towardsdatascience.com/multi-class-text-classification-with-scikit-learn-12f1e60e0a9f "
   ]
  },
  {
   "cell_type": "markdown",
   "metadata": {},
   "source": [
    "Classifying Consumer Finance Complaints into 12 pre-defined classes."
   ]
  },
  {
   "cell_type": "markdown",
   "metadata": {},
   "source": [
    "Data Exploration  \n",
    "    - Input: joke\n",
    "    - Output: Category"
   ]
  },
  {
   "cell_type": "markdown",
   "metadata": {},
   "source": [
    "Verifications of Labels: Imbalanced Classes \n",
    "\n",
    "    - When we encounter such problems(fraud detection or cancer prediction),\n",
    "        we are bound to have difficulties solving them with standard algorithms.\n",
    "    \n",
    "        Conventional algorithms are often biased towards the majority class, \n",
    "            In the worst case, minority classes are treated as outliers and ignored.\n",
    "    \n",
    "    - In our case, the majority classes might be of our great interest? \n",
    "        YES! Therefore, we will leave it as it is.\n",
    "    \n",
    "      (maintaining reasonable accuracy for the minority classes)"
   ]
  },
  {
   "cell_type": "markdown",
   "metadata": {},
   "source": [
    "Text Representation\n",
    "    - texts are converted to a more manageable representation\n",
    "    - Term Frequency, Inverse Document Frequency, abbreviated to tf-idf."
   ]
  },
  {
   "cell_type": "markdown",
   "metadata": {},
   "source": [
    "Model Selection\n",
    "    - Naive Bayes Classifier\n",
    "    - Logistic Regression\n",
    "    - Random Forest"
   ]
  },
  {
   "cell_type": "markdown",
   "metadata": {},
   "source": [
    "Model Evaluation"
   ]
  },
  {
   "cell_type": "markdown",
   "metadata": {},
   "source": [
    " "
   ]
  },
  {
   "cell_type": "markdown",
   "metadata": {},
   "source": [
    " "
   ]
  },
  {
   "cell_type": "markdown",
   "metadata": {},
   "source": [
    " "
   ]
  },
  {
   "cell_type": "markdown",
   "metadata": {},
   "source": [
    " "
   ]
  },
  {
   "cell_type": "code",
   "execution_count": 1,
   "metadata": {},
   "outputs": [],
   "source": [
    "from bs4 import BeautifulSoup\n",
    "import requests\n",
    "import re\n",
    "import pandas as pd\n",
    "import numpy as ny"
   ]
  },
  {
   "cell_type": "markdown",
   "metadata": {},
   "source": [
    "#### Loading Data"
   ]
  },
  {
   "cell_type": "code",
   "execution_count": 2,
   "metadata": {},
   "outputs": [],
   "source": [
    "url_list = ['http://jokes.cc.com/joke-categories']\n",
    "response = requests.get(url_list[0]).text\n",
    "soup = BeautifulSoup(response, 'html.parser')"
   ]
  },
  {
   "cell_type": "code",
   "execution_count": 3,
   "metadata": {},
   "outputs": [],
   "source": [
    "lista_aux = str(soup.find('ul', attrs={'class':'list_horiz'})).split(' ')"
   ]
  },
  {
   "cell_type": "code",
   "execution_count": 4,
   "metadata": {},
   "outputs": [],
   "source": [
    "lista_url_categorias_piadas = []\n",
    "for l in lista_aux:\n",
    "    if l[:5] == 'href=':\n",
    "        lista_url_categorias_piadas.append(l[6:-1])"
   ]
  },
  {
   "cell_type": "code",
   "execution_count": 5,
   "metadata": {},
   "outputs": [],
   "source": [
    "diretorio = '/Users/felipesantos/Desktop/resultado/'\n",
    "arquivo =['httpjokes.cc.comfunny-animal','httpjokes.cc.comfunny-blonde','httpjokes.cc.comfunny-blue-collar',\n",
    "          'httpjokes.cc.comfunny-cross-the-road','httpjokes.cc.comfunny-dark-humor','httpjokes.cc.comfunny-dirty',\n",
    "          'httpjokes.cc.comfunny-doctor','httpjokes.cc.comfunny-fat','httpjokes.cc.comfunny-food',\n",
    "          'httpjokes.cc.comfunny-god','httpjokes.cc.comfunny-gross','httpjokes.cc.comfunny-insults',\n",
    "          'httpjokes.cc.comfunny-kids','httpjokes.cc.comfunny-lawyer','httpjokes.cc.comfunny-little-johnny',\n",
    "          'httpjokes.cc.comfunny-lookin--good','httpjokes.cc.comfunny-marriage','httpjokes.cc.comfunny-men-women',\n",
    "          'httpjokes.cc.comfunny-miscellaneous','httpjokes.cc.comfunny-money','httpjokes.cc.comfunny-nationality',\n",
    "          'httpjokes.cc.comfunny-news---politics','httpjokes.cc.comfunny-nsfw','httpjokes.cc.comfunny-partying---bad-behavior',\n",
    "          'httpjokes.cc.comfunny-pick-up-lines','httpjokes.cc.comfunny-police---military','httpjokes.cc.comfunny-pop-culture---celebrity',\n",
    "          'httpjokes.cc.comfunny-school','httpjokes.cc.comfunny-sports---athletes','httpjokes.cc.comfunny-technology',\n",
    "          'httpjokes.cc.comfunny-travel---car','httpjokes.cc.comfunny-walks-into-a-bar','httpjokes.cc.comfunny-work',\n",
    "          'httpjokes.cc.comfunny-yo--mama']"
   ]
  },
  {
   "cell_type": "code",
   "execution_count": 6,
   "metadata": {},
   "outputs": [],
   "source": [
    "df = pd.DataFrame()\n",
    "for i in range(len(arquivo)):\n",
    "    df_aux = pd.read_csv(diretorio+arquivo[i]+'.csv')\n",
    "    df_aux = df_aux.iloc[:,[1]]\n",
    "    df_aux.columns = ['joke']\n",
    "    df_aux['label'] = i\n",
    "    df = df.append(df_aux)"
   ]
  },
  {
   "cell_type": "code",
   "execution_count": 7,
   "metadata": {},
   "outputs": [
    {
     "data": {
      "text/plain": [
       "(19789, 2)"
      ]
     },
     "execution_count": 7,
     "metadata": {},
     "output_type": "execute_result"
    }
   ],
   "source": [
    "df.shape"
   ]
  },
  {
   "cell_type": "code",
   "execution_count": 8,
   "metadata": {},
   "outputs": [
    {
     "data": {
      "text/html": [
       "<div>\n",
       "<style scoped>\n",
       "    .dataframe tbody tr th:only-of-type {\n",
       "        vertical-align: middle;\n",
       "    }\n",
       "\n",
       "    .dataframe tbody tr th {\n",
       "        vertical-align: top;\n",
       "    }\n",
       "\n",
       "    .dataframe thead th {\n",
       "        text-align: right;\n",
       "    }\n",
       "</style>\n",
       "<table border=\"1\" class=\"dataframe\">\n",
       "  <thead>\n",
       "    <tr style=\"text-align: right;\">\n",
       "      <th></th>\n",
       "      <th>joke</th>\n",
       "      <th>label</th>\n",
       "    </tr>\n",
       "  </thead>\n",
       "  <tbody>\n",
       "    <tr>\n",
       "      <th>0</th>\n",
       "      <td>&lt;div class=\"content_wrap\"&gt;&lt;a class=\"prev\" href...</td>\n",
       "      <td>0</td>\n",
       "    </tr>\n",
       "    <tr>\n",
       "      <th>1</th>\n",
       "      <td>&lt;div class=\"content_wrap\"&gt;&lt;a class=\"prev\" href...</td>\n",
       "      <td>0</td>\n",
       "    </tr>\n",
       "    <tr>\n",
       "      <th>2</th>\n",
       "      <td>&lt;div class=\"content_wrap\"&gt;&lt;a class=\"prev\" href...</td>\n",
       "      <td>0</td>\n",
       "    </tr>\n",
       "    <tr>\n",
       "      <th>3</th>\n",
       "      <td>&lt;div class=\"content_wrap\"&gt;&lt;a class=\"prev\" href...</td>\n",
       "      <td>0</td>\n",
       "    </tr>\n",
       "    <tr>\n",
       "      <th>4</th>\n",
       "      <td>&lt;div class=\"content_wrap\"&gt;&lt;a class=\"prev\" href...</td>\n",
       "      <td>0</td>\n",
       "    </tr>\n",
       "  </tbody>\n",
       "</table>\n",
       "</div>"
      ],
      "text/plain": [
       "                                                joke  label\n",
       "0  <div class=\"content_wrap\"><a class=\"prev\" href...      0\n",
       "1  <div class=\"content_wrap\"><a class=\"prev\" href...      0\n",
       "2  <div class=\"content_wrap\"><a class=\"prev\" href...      0\n",
       "3  <div class=\"content_wrap\"><a class=\"prev\" href...      0\n",
       "4  <div class=\"content_wrap\"><a class=\"prev\" href...      0"
      ]
     },
     "execution_count": 8,
     "metadata": {},
     "output_type": "execute_result"
    }
   ],
   "source": [
    "df.head()"
   ]
  },
  {
   "cell_type": "code",
   "execution_count": 9,
   "metadata": {},
   "outputs": [
    {
     "data": {
      "text/plain": [
       "'<div class=\"content_wrap\"><a class=\"prev\" href=\"http://jokes.cc.com/funny-animal/2rcy7k/a-kangaroo-walks-into-a-bar---\">Previous</a><a class=\"next\" href=\"http://jokes.cc.com/funny-animal/i08q3q/walks-into-a-bar----horsing-around\">Next</a><p>A bear walks into a bar and says to the bartender, \"I\\'ll have a pint of beer and a.......... packet of peanuts.\"<p>The bartender asks, \"Why the big pause?\" </p></p></div>'"
      ]
     },
     "execution_count": 9,
     "metadata": {},
     "output_type": "execute_result"
    }
   ],
   "source": [
    "list(df.joke)[0]"
   ]
  },
  {
   "cell_type": "code",
   "execution_count": 10,
   "metadata": {},
   "outputs": [
    {
     "name": "stdout",
     "output_type": "stream",
     "text": [
      "{0, 1, 2, 3, 4, 5, 6, 7, 8, 9, 10, 11, 12, 13, 14, 15, 16, 17, 18, 19, 20, 21, 22, 23, 24, 25, 26, 27, 28, 29, 30, 31, 32, 33}\n"
     ]
    }
   ],
   "source": [
    "print(set(df.label))"
   ]
  },
  {
   "cell_type": "markdown",
   "metadata": {},
   "source": [
    "#### Cleaning text"
   ]
  },
  {
   "cell_type": "code",
   "execution_count": 11,
   "metadata": {},
   "outputs": [],
   "source": [
    "list_aux = range(len(list(df.joke)))\n",
    "joke_list = []\n",
    "for i in list_aux:\n",
    "    soup = BeautifulSoup(list(df['joke'])[i], 'html.parser')\n",
    "    try:\n",
    "        aux = str(soup.find('a', attrs={'class':'next'}))\n",
    "        valor = re.search(aux, list(df['joke'])[i]).start()+len(aux)\n",
    "        joke_list.append(list(df['joke'])[i][valor:])\n",
    "    except:\n",
    "        try:\n",
    "            aux = str(soup.find('a', attrs={'class':'prev'}))\n",
    "            valor = re.search(aux, list(df['joke'])[i]).start()+len(aux)\n",
    "            joke_list.append(list(df['joke'])[i][valor:])\n",
    "        except : joke_list.append(list(df['joke'])[i])"
   ]
  },
  {
   "cell_type": "code",
   "execution_count": 12,
   "metadata": {},
   "outputs": [],
   "source": [
    "l = list(df.label)\n",
    "l_1 = list(df.joke)\n",
    "l_2 = []\n",
    "\n",
    "for jok in joke_list:\n",
    "    joke = jok.replace(\"div\", \" \").replace(\"br\", \" \").replace(\"/\", \" \")\n",
    "    joke = joke.replace(\"p>\", \" \").replace(\">\", \" \").replace(\"<\", \" \")\n",
    "    l_2.append(joke)\n",
    "df = pd.DataFrame({'label':l, 'joke_':l_1, 'joke':l_2})"
   ]
  },
  {
   "cell_type": "code",
   "execution_count": 13,
   "metadata": {},
   "outputs": [
    {
     "data": {
      "text/plain": [
       "'  A bear walks into a bar and says to the bartender, \"I\\'ll have a pint of beer and a.......... packet of peanuts.\"  The bartender asks, \"Why the big pause?\"           '"
      ]
     },
     "execution_count": 13,
     "metadata": {},
     "output_type": "execute_result"
    }
   ],
   "source": [
    "list(df.joke)[0]"
   ]
  },
  {
   "cell_type": "markdown",
   "metadata": {},
   "source": [
    "###  34 Classes - imbalanced"
   ]
  },
  {
   "cell_type": "code",
   "execution_count": 14,
   "metadata": {},
   "outputs": [
    {
     "data": {
      "image/png": "[encoded data removed]",
      "text/plain": [
       "<matplotlib.figure.Figure at 0x10e97cfd0>"
      ]
     },
     "metadata": {},
     "output_type": "display_data"
    }
   ],
   "source": [
    "import matplotlib.pyplot as plt\n",
    "%matplotlib inline\n",
    "fig = plt.figure(figsize=(8,6))\n",
    "df.groupby('label').joke.count().plot.bar(ylim=0)\n",
    "plt.show()"
   ]
  },
  {
   "cell_type": "markdown",
   "metadata": {},
   "source": [
    "#### Text Representation"
   ]
  },
  {
   "cell_type": "code",
   "execution_count": 15,
   "metadata": {},
   "outputs": [],
   "source": [
    "from sklearn.feature_extraction.text import TfidfVectorizer"
   ]
  },
  {
   "cell_type": "code",
   "execution_count": 16,
   "metadata": {},
   "outputs": [],
   "source": [
    "tfidf = TfidfVectorizer(sublinear_tf=True, min_df=10, norm='l2',\n",
    "                        encoding='latin-1', ngram_range=(1,2), stop_words='english')\n",
    "features = tfidf.fit_transform(df.joke).toarray()"
   ]
  },
  {
   "cell_type": "code",
   "execution_count": 17,
   "metadata": {},
   "outputs": [
    {
     "data": {
      "text/plain": [
       "(19789, 3)"
      ]
     },
     "execution_count": 17,
     "metadata": {},
     "output_type": "execute_result"
    }
   ],
   "source": [
    "df.shape"
   ]
  },
  {
   "cell_type": "code",
   "execution_count": 18,
   "metadata": {},
   "outputs": [
    {
     "data": {
      "text/plain": [
       "(19789, 6625)"
      ]
     },
     "execution_count": 18,
     "metadata": {},
     "output_type": "execute_result"
    }
   ],
   "source": [
    "features.shape"
   ]
  },
  {
   "cell_type": "code",
   "execution_count": 19,
   "metadata": {},
   "outputs": [
    {
     "data": {
      "text/plain": [
       "numpy.ndarray"
      ]
     },
     "execution_count": 19,
     "metadata": {},
     "output_type": "execute_result"
    }
   ],
   "source": [
    "type(features)"
   ]
  },
  {
   "cell_type": "code",
   "execution_count": 20,
   "metadata": {},
   "outputs": [
    {
     "data": {
      "text/plain": [
       "[('bear', 500),\n",
       " ('walks', 6286),\n",
       " ('bar', 451),\n",
       " ('says', 5069),\n",
       " ('bartender', 471),\n",
       " ('ll', 3481),\n",
       " ('pint', 4400),\n",
       " ('beer', 521),\n",
       " ('packet', 4217),\n",
       " ('peanuts', 4291)]"
      ]
     },
     "execution_count": 20,
     "metadata": {},
     "output_type": "execute_result"
    }
   ],
   "source": [
    "list(tfidf.vocabulary_.items())[:10]"
   ]
  },
  {
   "cell_type": "code",
   "execution_count": 21,
   "metadata": {},
   "outputs": [],
   "source": [
    "df_joke_vec = pd.DataFrame(features,index = df.index).rename(columns = {v:k for k,v in tfidf.vocabulary_.items()})"
   ]
  },
  {
   "cell_type": "code",
   "execution_count": 22,
   "metadata": {},
   "outputs": [
    {
     "data": {
      "text/html": [
       "<div>\n",
       "<style scoped>\n",
       "    .dataframe tbody tr th:only-of-type {\n",
       "        vertical-align: middle;\n",
       "    }\n",
       "\n",
       "    .dataframe tbody tr th {\n",
       "        vertical-align: top;\n",
       "    }\n",
       "\n",
       "    .dataframe thead th {\n",
       "        text-align: right;\n",
       "    }\n",
       "</style>\n",
       "<table border=\"1\" class=\"dataframe\">\n",
       "  <thead>\n",
       "    <tr style=\"text-align: right;\">\n",
       "      <th></th>\n",
       "      <th>00</th>\n",
       "      <th>000</th>\n",
       "      <th>000 year</th>\n",
       "      <th>10</th>\n",
       "      <th>10 00</th>\n",
       "      <th>10 000</th>\n",
       "      <th>10 minutes</th>\n",
       "      <th>10 pounds</th>\n",
       "      <th>10 years</th>\n",
       "      <th>100</th>\n",
       "      <th>...</th>\n",
       "      <th>young woman</th>\n",
       "      <th>younger</th>\n",
       "      <th>youngest</th>\n",
       "      <th>youth</th>\n",
       "      <th>ze</th>\n",
       "      <th>zero</th>\n",
       "      <th>zip</th>\n",
       "      <th>zombie</th>\n",
       "      <th>zone</th>\n",
       "      <th>zoo</th>\n",
       "    </tr>\n",
       "  </thead>\n",
       "  <tbody>\n",
       "    <tr>\n",
       "      <th>0</th>\n",
       "      <td>0.0</td>\n",
       "      <td>0.0</td>\n",
       "      <td>0.0</td>\n",
       "      <td>0.0</td>\n",
       "      <td>0.0</td>\n",
       "      <td>0.0</td>\n",
       "      <td>0.0</td>\n",
       "      <td>0.0</td>\n",
       "      <td>0.0</td>\n",
       "      <td>0.0</td>\n",
       "      <td>...</td>\n",
       "      <td>0.0</td>\n",
       "      <td>0.0</td>\n",
       "      <td>0.0</td>\n",
       "      <td>0.0</td>\n",
       "      <td>0.0</td>\n",
       "      <td>0.0</td>\n",
       "      <td>0.0</td>\n",
       "      <td>0.0</td>\n",
       "      <td>0.0</td>\n",
       "      <td>0.0</td>\n",
       "    </tr>\n",
       "    <tr>\n",
       "      <th>1</th>\n",
       "      <td>0.0</td>\n",
       "      <td>0.0</td>\n",
       "      <td>0.0</td>\n",
       "      <td>0.0</td>\n",
       "      <td>0.0</td>\n",
       "      <td>0.0</td>\n",
       "      <td>0.0</td>\n",
       "      <td>0.0</td>\n",
       "      <td>0.0</td>\n",
       "      <td>0.0</td>\n",
       "      <td>...</td>\n",
       "      <td>0.0</td>\n",
       "      <td>0.0</td>\n",
       "      <td>0.0</td>\n",
       "      <td>0.0</td>\n",
       "      <td>0.0</td>\n",
       "      <td>0.0</td>\n",
       "      <td>0.0</td>\n",
       "      <td>0.0</td>\n",
       "      <td>0.0</td>\n",
       "      <td>0.0</td>\n",
       "    </tr>\n",
       "    <tr>\n",
       "      <th>2</th>\n",
       "      <td>0.0</td>\n",
       "      <td>0.0</td>\n",
       "      <td>0.0</td>\n",
       "      <td>0.0</td>\n",
       "      <td>0.0</td>\n",
       "      <td>0.0</td>\n",
       "      <td>0.0</td>\n",
       "      <td>0.0</td>\n",
       "      <td>0.0</td>\n",
       "      <td>0.0</td>\n",
       "      <td>...</td>\n",
       "      <td>0.0</td>\n",
       "      <td>0.0</td>\n",
       "      <td>0.0</td>\n",
       "      <td>0.0</td>\n",
       "      <td>0.0</td>\n",
       "      <td>0.0</td>\n",
       "      <td>0.0</td>\n",
       "      <td>0.0</td>\n",
       "      <td>0.0</td>\n",
       "      <td>0.0</td>\n",
       "    </tr>\n",
       "    <tr>\n",
       "      <th>3</th>\n",
       "      <td>0.0</td>\n",
       "      <td>0.0</td>\n",
       "      <td>0.0</td>\n",
       "      <td>0.0</td>\n",
       "      <td>0.0</td>\n",
       "      <td>0.0</td>\n",
       "      <td>0.0</td>\n",
       "      <td>0.0</td>\n",
       "      <td>0.0</td>\n",
       "      <td>0.0</td>\n",
       "      <td>...</td>\n",
       "      <td>0.0</td>\n",
       "      <td>0.0</td>\n",
       "      <td>0.0</td>\n",
       "      <td>0.0</td>\n",
       "      <td>0.0</td>\n",
       "      <td>0.0</td>\n",
       "      <td>0.0</td>\n",
       "      <td>0.0</td>\n",
       "      <td>0.0</td>\n",
       "      <td>0.0</td>\n",
       "    </tr>\n",
       "    <tr>\n",
       "      <th>4</th>\n",
       "      <td>0.0</td>\n",
       "      <td>0.0</td>\n",
       "      <td>0.0</td>\n",
       "      <td>0.0</td>\n",
       "      <td>0.0</td>\n",
       "      <td>0.0</td>\n",
       "      <td>0.0</td>\n",
       "      <td>0.0</td>\n",
       "      <td>0.0</td>\n",
       "      <td>0.0</td>\n",
       "      <td>...</td>\n",
       "      <td>0.0</td>\n",
       "      <td>0.0</td>\n",
       "      <td>0.0</td>\n",
       "      <td>0.0</td>\n",
       "      <td>0.0</td>\n",
       "      <td>0.0</td>\n",
       "      <td>0.0</td>\n",
       "      <td>0.0</td>\n",
       "      <td>0.0</td>\n",
       "      <td>0.0</td>\n",
       "    </tr>\n",
       "  </tbody>\n",
       "</table>\n",
       "<p>5 rows × 6625 columns</p>\n",
       "</div>"
      ],
      "text/plain": [
       "    00  000  000 year   10  10 00  10 000  10 minutes  10 pounds  10 years  \\\n",
       "0  0.0  0.0       0.0  0.0    0.0     0.0         0.0        0.0       0.0   \n",
       "1  0.0  0.0       0.0  0.0    0.0     0.0         0.0        0.0       0.0   \n",
       "2  0.0  0.0       0.0  0.0    0.0     0.0         0.0        0.0       0.0   \n",
       "3  0.0  0.0       0.0  0.0    0.0     0.0         0.0        0.0       0.0   \n",
       "4  0.0  0.0       0.0  0.0    0.0     0.0         0.0        0.0       0.0   \n",
       "\n",
       "   100 ...   young woman  younger  youngest  youth   ze  zero  zip  zombie  \\\n",
       "0  0.0 ...           0.0      0.0       0.0    0.0  0.0   0.0  0.0     0.0   \n",
       "1  0.0 ...           0.0      0.0       0.0    0.0  0.0   0.0  0.0     0.0   \n",
       "2  0.0 ...           0.0      0.0       0.0    0.0  0.0   0.0  0.0     0.0   \n",
       "3  0.0 ...           0.0      0.0       0.0    0.0  0.0   0.0  0.0     0.0   \n",
       "4  0.0 ...           0.0      0.0       0.0    0.0  0.0   0.0  0.0     0.0   \n",
       "\n",
       "   zone  zoo  \n",
       "0   0.0  0.0  \n",
       "1   0.0  0.0  \n",
       "2   0.0  0.0  \n",
       "3   0.0  0.0  \n",
       "4   0.0  0.0  \n",
       "\n",
       "[5 rows x 6625 columns]"
      ]
     },
     "execution_count": 22,
     "metadata": {},
     "output_type": "execute_result"
    }
   ],
   "source": [
    "df_joke_vec.head()"
   ]
  },
  {
   "cell_type": "code",
   "execution_count": 23,
   "metadata": {},
   "outputs": [
    {
     "data": {
      "text/plain": [
       "(19789, 6625)"
      ]
     },
     "execution_count": 23,
     "metadata": {},
     "output_type": "execute_result"
    }
   ],
   "source": [
    "df_joke_vec.shape"
   ]
  },
  {
   "cell_type": "code",
   "execution_count": 24,
   "metadata": {},
   "outputs": [
    {
     "data": {
      "text/plain": [
       "(19789, 3)"
      ]
     },
     "execution_count": 24,
     "metadata": {},
     "output_type": "execute_result"
    }
   ],
   "source": [
    "df.shape"
   ]
  },
  {
   "cell_type": "code",
   "execution_count": 25,
   "metadata": {},
   "outputs": [
    {
     "name": "stdout",
     "output_type": "stream",
     "text": [
      "funny-animal\n",
      "  . Most correlated unigrams:\n",
      ". elephant\n",
      ". dog\n",
      "  . Most correlated bigrams:\n",
      ". chicken cross\n",
      ". cross road\n",
      " \n",
      "funny-doctor\n",
      "  . Most correlated unigrams:\n",
      ". disease\n",
      ". doctor\n",
      "  . Most correlated bigrams:\n",
      ". doctor doctor\n",
      ". went doctor\n",
      " \n",
      "funny-food\n",
      "  . Most correlated unigrams:\n",
      ". food\n",
      ". eat\n",
      "  . Most correlated bigrams:\n",
      ". people eat\n",
      ". want eat\n",
      " \n",
      "funny-partying---bad-behavior\n",
      "  . Most correlated unigrams:\n",
      ". drinking\n",
      ". bartender\n",
      "  . Most correlated bigrams:\n",
      ". bartender says\n",
      ". walks bar\n",
      " \n",
      "funny-technology\n",
      "  . Most correlated unigrams:\n",
      ". text\n",
      ". computer\n",
      "  . Most correlated bigrams:\n",
      ". cell phone\n",
      ". hard drive\n",
      " \n",
      "funny-walks-into-a-bar\n",
      "  . Most correlated unigrams:\n",
      ". bar\n",
      ". bartender\n",
      "  . Most correlated bigrams:\n",
      ". bar orders\n",
      ". walks bar\n",
      " \n"
     ]
    }
   ],
   "source": [
    "from sklearn.feature_selection import chi2\n",
    "#Compute chi-squared stats between each non-negative feature and class.\n",
    "    ## This score can be used to select the n_features features with \n",
    "    ## the highest values for the test chi-squared statistic from X, \n",
    "    ## which must contain only non-negative features such as booleans or frequencies \n",
    "    ## (e.g., term counts in document classification), relative to the classes.\n",
    "\n",
    "    ## Recall that the chi-square test measures dependence between stochastic variables, \n",
    "    ## so using this function “weeds out” the features that are the most likely to be \n",
    "    ## independent of class and therefore irrelevant for classification.\n",
    "    \n",
    "    # Testa se suas variaveis categoricas sao idempendentes\n",
    "\n",
    "\n",
    "import numpy as np\n",
    "N = 2\n",
    "labels = df.label\n",
    "\n",
    "#for label in list(set(df.label)):\n",
    "for label in [0,6,8,23,29,31]:\n",
    "    features_chi2 = chi2(features, labels == label)\n",
    "    indices = np.argsort(features_chi2[0])\n",
    "    feature_names = np.array(tfidf.get_feature_names())[indices]\n",
    "    unigrams = [v for v in feature_names if len(v.split(' ')) == 1]\n",
    "    bigrams = [v for v in feature_names if len(v.split(' ')) == 2]\n",
    "    trigrams = [v for v in feature_names if len(v.split(' ')) == 3]    \n",
    "    print(arquivo[label][len('httpjokes.cc.com'):])\n",
    "    print(\"  . Most correlated unigrams:\\n. {}\".format('\\n. '.join(unigrams[-N:])))\n",
    "    print(\"  . Most correlated bigrams:\\n. {}\".format('\\n. '.join(bigrams[-N:])))\n",
    " #   print(\"  . Most correlated bigrams:\\n. {}\".format('\\n. '.join(trigrams[-N:])))    \n",
    "    print(' ')"
   ]
  },
  {
   "cell_type": "code",
   "execution_count": 26,
   "metadata": {},
   "outputs": [
    {
     "data": {
      "text/plain": [
       "(19789, 6625)"
      ]
     },
     "execution_count": 26,
     "metadata": {},
     "output_type": "execute_result"
    }
   ],
   "source": [
    "df_joke_vec.shape"
   ]
  },
  {
   "cell_type": "code",
   "execution_count": 27,
   "metadata": {},
   "outputs": [
    {
     "data": {
      "text/plain": [
       "(19789, 3)"
      ]
     },
     "execution_count": 27,
     "metadata": {},
     "output_type": "execute_result"
    }
   ],
   "source": [
    "df.shape"
   ]
  },
  {
   "cell_type": "markdown",
   "metadata": {},
   "source": [
    "### Naive Bayes Classifier"
   ]
  },
  {
   "cell_type": "code",
   "execution_count": 28,
   "metadata": {},
   "outputs": [],
   "source": [
    "from sklearn.model_selection import train_test_split\n",
    "from sklearn.naive_bayes import MultinomialNB\n",
    "import sklearn.metrics as metrics"
   ]
  },
  {
   "cell_type": "code",
   "execution_count": 29,
   "metadata": {},
   "outputs": [],
   "source": [
    "X_train, X_test, y_train, y_test = train_test_split(df_joke_vec, df.label, random_state = 0,test_size=0.20)"
   ]
  },
  {
   "cell_type": "code",
   "execution_count": 30,
   "metadata": {},
   "outputs": [],
   "source": [
    "clf = MultinomialNB().fit(X_train, y_train)"
   ]
  },
  {
   "cell_type": "markdown",
   "metadata": {},
   "source": [
    "#### Accuracy "
   ]
  },
  {
   "cell_type": "code",
   "execution_count": 31,
   "metadata": {},
   "outputs": [
    {
     "name": "stdout",
     "output_type": "stream",
     "text": [
      "Train\n",
      "0.3903733181732045\n",
      " \n",
      "Test\n",
      "0.1707933299646286\n"
     ]
    }
   ],
   "source": [
    "predicted_y = clf.predict(X_train)\n",
    "print(\"Train\")\n",
    "print(metrics.accuracy_score(y_train, predicted_y))\n",
    "print(\" \")\n",
    "\n",
    "predicted_y = clf.predict(X_test)\n",
    "print(\"Test\")\n",
    "print(metrics.accuracy_score(y_test, predicted_y))"
   ]
  },
  {
   "cell_type": "markdown",
   "metadata": {},
   "source": [
    "### Random Forest"
   ]
  },
  {
   "cell_type": "code",
   "execution_count": 32,
   "metadata": {},
   "outputs": [],
   "source": [
    "from sklearn.ensemble import RandomForestClassifier"
   ]
  },
  {
   "cell_type": "code",
   "execution_count": 33,
   "metadata": {},
   "outputs": [
    {
     "data": {
      "text/plain": [
       "RandomForestClassifier(bootstrap=True, class_weight=None, criterion='gini',\n",
       "            max_depth=3, max_features='auto', max_leaf_nodes=None,\n",
       "            min_impurity_decrease=0.0, min_impurity_split=None,\n",
       "            min_samples_leaf=1, min_samples_split=2,\n",
       "            min_weight_fraction_leaf=0.0, n_estimators=10, n_jobs=1,\n",
       "            oob_score=False, random_state=0, verbose=0, warm_start=False)"
      ]
     },
     "execution_count": 33,
     "metadata": {},
     "output_type": "execute_result"
    }
   ],
   "source": [
    "rf = RandomForestClassifier(n_estimators=10, max_depth=3, random_state=0)\n",
    "rf.fit(X_train.values, y_train.values)"
   ]
  },
  {
   "cell_type": "code",
   "execution_count": 34,
   "metadata": {},
   "outputs": [],
   "source": [
    "#from sklearn.grid_search import GridSearchCV\n",
    "#param_grid = { \n",
    "#    'n_estimators': [10, 50, 100, 200],\n",
    "#    'max_depth': [3,5,10,15,20]}\n",
    "#\n",
    "# ------>   {'max_depth': 15, 'n_estimators': 200}\n",
    "\n",
    "#param_grid = { \n",
    "#    'n_estimators': [200, 250],\n",
    "#    'max_depth': [15]}\n",
    "#\n",
    "# ------>   {'max_depth': 15, 'n_estimators': 200}    \n",
    "\n",
    "\n",
    "#CV_rf = GridSearchCV(estimator=rf, param_grid=param_grid, cv= 3)\n",
    "#CV_rf.fit(X, y)\n",
    "#print (CV_rf.best_params_)"
   ]
  },
  {
   "cell_type": "code",
   "execution_count": 35,
   "metadata": {},
   "outputs": [
    {
     "data": {
      "text/plain": [
       "RandomForestClassifier(bootstrap=True, class_weight=None, criterion='gini',\n",
       "            max_depth=15, max_features='auto', max_leaf_nodes=None,\n",
       "            min_impurity_decrease=0.0, min_impurity_split=None,\n",
       "            min_samples_leaf=1, min_samples_split=2,\n",
       "            min_weight_fraction_leaf=0.0, n_estimators=200, n_jobs=1,\n",
       "            oob_score=False, random_state=0, verbose=0, warm_start=False)"
      ]
     },
     "execution_count": 35,
     "metadata": {},
     "output_type": "execute_result"
    }
   ],
   "source": [
    "rf = RandomForestClassifier(n_estimators=200, max_depth=15, random_state=0)\n",
    "rf.fit(X_train.values, y_train.values)"
   ]
  },
  {
   "cell_type": "markdown",
   "metadata": {},
   "source": [
    "#### Accuracy "
   ]
  },
  {
   "cell_type": "code",
   "execution_count": 36,
   "metadata": {},
   "outputs": [
    {
     "name": "stdout",
     "output_type": "stream",
     "text": [
      "Train\n",
      "0.3025077379824395\n",
      " \n",
      "Test\n",
      "0.1571500757958565\n"
     ]
    }
   ],
   "source": [
    "predicted_y = rf.predict(X_train.values)\n",
    "print(\"Train\")\n",
    "print(metrics.accuracy_score(y_train.values, predicted_y))\n",
    "print(\" \")\n",
    "\n",
    "predicted_y = rf.predict(X_test.values)\n",
    "print(\"Test\")\n",
    "print(metrics.accuracy_score(y_test.values, predicted_y))"
   ]
  },
  {
   "cell_type": "markdown",
   "metadata": {},
   "source": [
    "#  "
   ]
  },
  {
   "cell_type": "markdown",
   "metadata": {},
   "source": [
    "### Logistic Regression"
   ]
  },
  {
   "cell_type": "code",
   "execution_count": 37,
   "metadata": {},
   "outputs": [],
   "source": [
    "from sklearn.linear_model import LogisticRegression"
   ]
  },
  {
   "cell_type": "code",
   "execution_count": 38,
   "metadata": {},
   "outputs": [
    {
     "data": {
      "text/plain": [
       "LogisticRegression(C=1.0, class_weight=None, dual=False, fit_intercept=True,\n",
       "          intercept_scaling=1, max_iter=100, multi_class='ovr', n_jobs=1,\n",
       "          penalty='l2', random_state=0, solver='liblinear', tol=0.0001,\n",
       "          verbose=0, warm_start=False)"
      ]
     },
     "execution_count": 38,
     "metadata": {},
     "output_type": "execute_result"
    }
   ],
   "source": [
    "X = X_train.values\n",
    "y = y_train.values\n",
    "lr = LogisticRegression(random_state=0)\n",
    "lr.fit(X, y)"
   ]
  },
  {
   "cell_type": "markdown",
   "metadata": {},
   "source": [
    "#### Accuracy "
   ]
  },
  {
   "cell_type": "code",
   "execution_count": 39,
   "metadata": {},
   "outputs": [
    {
     "name": "stdout",
     "output_type": "stream",
     "text": [
      "Train\n",
      "0.43168466931968924\n",
      " \n",
      "Test\n",
      "0.18999494694290045\n"
     ]
    }
   ],
   "source": [
    "predicted_y = lr.predict(X_train.values)\n",
    "print(\"Train\")\n",
    "print(metrics.accuracy_score(y_train.values, predicted_y))\n",
    "print(\" \")\n",
    "\n",
    "predicted_y = lr.predict(X_test.values)\n",
    "print(\"Test\")\n",
    "print(metrics.accuracy_score(y_test.values, predicted_y))"
   ]
  },
  {
   "cell_type": "markdown",
   "metadata": {},
   "source": [
    "   "
   ]
  },
  {
   "cell_type": "markdown",
   "metadata": {},
   "source": [
    "   "
   ]
  },
  {
   "cell_type": "markdown",
   "metadata": {},
   "source": [
    "   "
   ]
  },
  {
   "cell_type": "markdown",
   "metadata": {},
   "source": [
    "   "
   ]
  },
  {
   "cell_type": "markdown",
   "metadata": {},
   "source": [
    "   "
   ]
  },
  {
   "cell_type": "markdown",
   "metadata": {},
   "source": [
    "   "
   ]
  },
  {
   "cell_type": "markdown",
   "metadata": {},
   "source": [
    "###  5 Classes - balanced"
   ]
  },
  {
   "cell_type": "code",
   "execution_count": 40,
   "metadata": {},
   "outputs": [
    {
     "data": {
      "image/png": "[encoded data removed]",
      "text/plain": [
       "<matplotlib.figure.Figure at 0x115d265f8>"
      ]
     },
     "metadata": {},
     "output_type": "display_data"
    }
   ],
   "source": [
    "import matplotlib.pyplot as plt\n",
    "%matplotlib inline\n",
    "fig = plt.figure(figsize=(8,6))\n",
    "df.groupby('label').joke.count().plot.bar(ylim=0)\n",
    "plt.show()"
   ]
  },
  {
   "cell_type": "code",
   "execution_count": 41,
   "metadata": {},
   "outputs": [],
   "source": [
    "labels_ = [5,11,15,18,19]"
   ]
  },
  {
   "cell_type": "code",
   "execution_count": 42,
   "metadata": {},
   "outputs": [],
   "source": [
    "df.set_index('label', inplace=True)"
   ]
  },
  {
   "cell_type": "code",
   "execution_count": 43,
   "metadata": {},
   "outputs": [],
   "source": [
    "df = df.loc[labels_].copy()"
   ]
  },
  {
   "cell_type": "code",
   "execution_count": 44,
   "metadata": {},
   "outputs": [],
   "source": [
    "df.reset_index(inplace=True)"
   ]
  },
  {
   "cell_type": "code",
   "execution_count": 45,
   "metadata": {},
   "outputs": [
    {
     "data": {
      "text/html": [
       "<div>\n",
       "<style scoped>\n",
       "    .dataframe tbody tr th:only-of-type {\n",
       "        vertical-align: middle;\n",
       "    }\n",
       "\n",
       "    .dataframe tbody tr th {\n",
       "        vertical-align: top;\n",
       "    }\n",
       "\n",
       "    .dataframe thead th {\n",
       "        text-align: right;\n",
       "    }\n",
       "</style>\n",
       "<table border=\"1\" class=\"dataframe\">\n",
       "  <thead>\n",
       "    <tr style=\"text-align: right;\">\n",
       "      <th></th>\n",
       "      <th>label</th>\n",
       "      <th>joke</th>\n",
       "      <th>joke_</th>\n",
       "    </tr>\n",
       "  </thead>\n",
       "  <tbody>\n",
       "    <tr>\n",
       "      <th>1423</th>\n",
       "      <td>11</td>\n",
       "      <td>What should we expect from a compassionate c...</td>\n",
       "      <td>&lt;div class=\"content_wrap\"&gt;&lt;a class=\"prev\" href...</td>\n",
       "    </tr>\n",
       "  </tbody>\n",
       "</table>\n",
       "</div>"
      ],
      "text/plain": [
       "      label                                               joke  \\\n",
       "1423     11    What should we expect from a compassionate c...   \n",
       "\n",
       "                                                  joke_  \n",
       "1423  <div class=\"content_wrap\"><a class=\"prev\" href...  "
      ]
     },
     "execution_count": 45,
     "metadata": {},
     "output_type": "execute_result"
    }
   ],
   "source": [
    "df.sample()"
   ]
  },
  {
   "cell_type": "code",
   "execution_count": 68,
   "metadata": {},
   "outputs": [
    {
     "data": {
      "image/png": "[encoded data removed]",
      "text/plain": [
       "<matplotlib.figure.Figure at 0x10f516ba8>"
      ]
     },
     "metadata": {},
     "output_type": "display_data"
    }
   ],
   "source": [
    "import matplotlib.pyplot as plt\n",
    "%matplotlib inline\n",
    "fig = plt.figure(figsize=(8,6))\n",
    "df.groupby('label').joke.count().plot.bar(ylim=0)\n",
    "plt.show()"
   ]
  },
  {
   "cell_type": "code",
   "execution_count": 47,
   "metadata": {},
   "outputs": [],
   "source": [
    "tfidf = TfidfVectorizer(sublinear_tf=True, min_df=10, norm='l2',\n",
    "                        encoding='latin-1', ngram_range=(1,2), stop_words='english')\n",
    "features = tfidf.fit_transform(df.joke).toarray()"
   ]
  },
  {
   "cell_type": "code",
   "execution_count": 48,
   "metadata": {},
   "outputs": [],
   "source": [
    "df_joke_vec = pd.DataFrame(features,index = df.index).rename(columns = {v:k for k,v in tfidf.vocabulary_.items()})"
   ]
  },
  {
   "cell_type": "markdown",
   "metadata": {},
   "source": [
    "### Naive Bayes Classifier"
   ]
  },
  {
   "cell_type": "code",
   "execution_count": 49,
   "metadata": {},
   "outputs": [],
   "source": [
    "X_train, X_test, y_train, y_test = train_test_split(df_joke_vec, df.label, random_state = 0,test_size=0.20)"
   ]
  },
  {
   "cell_type": "code",
   "execution_count": 50,
   "metadata": {},
   "outputs": [],
   "source": [
    "clf = MultinomialNB().fit(X_train, y_train)"
   ]
  },
  {
   "cell_type": "markdown",
   "metadata": {},
   "source": [
    "#### Accuracy "
   ]
  },
  {
   "cell_type": "code",
   "execution_count": 51,
   "metadata": {},
   "outputs": [
    {
     "name": "stdout",
     "output_type": "stream",
     "text": [
      "Train\n",
      "0.6095927116827439\n",
      " \n",
      "Test\n",
      "0.3897216274089936\n"
     ]
    }
   ],
   "source": [
    "predicted_y = clf.predict(X_train)\n",
    "print(\"Train\")\n",
    "print(metrics.accuracy_score(y_train, predicted_y))\n",
    "print(\" \")\n",
    "\n",
    "predicted_y = clf.predict(X_test)\n",
    "print(\"Test\")\n",
    "print(metrics.accuracy_score(y_test, predicted_y))"
   ]
  },
  {
   "cell_type": "code",
   "execution_count": 52,
   "metadata": {},
   "outputs": [],
   "source": [
    "from sklearn.metrics import confusion_matrix"
   ]
  },
  {
   "cell_type": "code",
   "execution_count": 53,
   "metadata": {},
   "outputs": [
    {
     "data": {
      "text/plain": [
       "array([[97, 11, 39, 53,  4],\n",
       "       [31, 69, 53, 44, 11],\n",
       "       [28, 39, 81, 21, 18],\n",
       "       [58, 23, 36, 74,  5],\n",
       "       [20, 12, 44, 20, 43]])"
      ]
     },
     "execution_count": 53,
     "metadata": {},
     "output_type": "execute_result"
    }
   ],
   "source": [
    "confusion_matrix(y_test, predicted_y)"
   ]
  },
  {
   "cell_type": "code",
   "execution_count": 54,
   "metadata": {},
   "outputs": [],
   "source": [
    "import seaborn as sns"
   ]
  },
  {
   "cell_type": "code",
   "execution_count": 55,
   "metadata": {},
   "outputs": [
    {
     "data": {
      "text/plain": [
       "<matplotlib.axes._subplots.AxesSubplot at 0x10f2a2588>"
      ]
     },
     "execution_count": 55,
     "metadata": {},
     "output_type": "execute_result"
    },
    {
     "data": {
      "image/png": "[encoded data removed]",
      "text/plain": [
       "<matplotlib.figure.Figure at 0x1a1b456828>"
      ]
     },
     "metadata": {},
     "output_type": "display_data"
    }
   ],
   "source": [
    "sns.heatmap(pd.DataFrame(data=confusion_matrix(y_test, predicted_y)).apply(lambda x: x / x.sum()), annot=True, linewidths=.5)"
   ]
  },
  {
   "cell_type": "markdown",
   "metadata": {},
   "source": [
    "### Random Forest"
   ]
  },
  {
   "cell_type": "code",
   "execution_count": 56,
   "metadata": {},
   "outputs": [
    {
     "data": {
      "text/plain": [
       "RandomForestClassifier(bootstrap=True, class_weight=None, criterion='gini',\n",
       "            max_depth=15, max_features='auto', max_leaf_nodes=None,\n",
       "            min_impurity_decrease=0.0, min_impurity_split=None,\n",
       "            min_samples_leaf=1, min_samples_split=2,\n",
       "            min_weight_fraction_leaf=0.0, n_estimators=200, n_jobs=1,\n",
       "            oob_score=False, random_state=0, verbose=0, warm_start=False)"
      ]
     },
     "execution_count": 56,
     "metadata": {},
     "output_type": "execute_result"
    }
   ],
   "source": [
    "rf = RandomForestClassifier(n_estimators=200, max_depth=15, random_state=0)\n",
    "rf.fit(X_train.values, y_train.values)"
   ]
  },
  {
   "cell_type": "markdown",
   "metadata": {},
   "source": [
    "#### Accuracy "
   ]
  },
  {
   "cell_type": "code",
   "execution_count": 57,
   "metadata": {},
   "outputs": [
    {
     "name": "stdout",
     "output_type": "stream",
     "text": [
      "Train\n",
      "0.6189710610932476\n",
      " \n",
      "Test\n",
      "0.35974304068522484\n"
     ]
    }
   ],
   "source": [
    "predicted_y = rf.predict(X_train.values)\n",
    "print(\"Train\")\n",
    "print(metrics.accuracy_score(y_train.values, predicted_y))\n",
    "print(\" \")\n",
    "\n",
    "predicted_y = rf.predict(X_test.values)\n",
    "print(\"Test\")\n",
    "print(metrics.accuracy_score(y_test.values, predicted_y))"
   ]
  },
  {
   "cell_type": "code",
   "execution_count": 58,
   "metadata": {},
   "outputs": [
    {
     "data": {
      "text/plain": [
       "array([[134,   0,  14,  55,   1],\n",
       "       [ 58,  32,  53,  55,  10],\n",
       "       [ 56,  25,  66,  22,  18],\n",
       "       [ 98,   4,  16,  72,   6],\n",
       "       [ 45,   4,  35,  23,  32]])"
      ]
     },
     "execution_count": 58,
     "metadata": {},
     "output_type": "execute_result"
    }
   ],
   "source": [
    "confusion_matrix(y_test, predicted_y)"
   ]
  },
  {
   "cell_type": "code",
   "execution_count": 59,
   "metadata": {},
   "outputs": [
    {
     "data": {
      "text/plain": [
       "<matplotlib.axes._subplots.AxesSubplot at 0x1a1b5788d0>"
      ]
     },
     "execution_count": 59,
     "metadata": {},
     "output_type": "execute_result"
    },
    {
     "data": {
      "image/png": "[encoded data removed]",
      "text/plain": [
       "<matplotlib.figure.Figure at 0x1a1b578278>"
      ]
     },
     "metadata": {},
     "output_type": "display_data"
    }
   ],
   "source": [
    "sns.heatmap(pd.DataFrame(data=confusion_matrix(y_test, predicted_y)).apply(lambda x: x / x.sum()), annot=True, linewidths=.5)"
   ]
  },
  {
   "cell_type": "markdown",
   "metadata": {},
   "source": [
    "#  "
   ]
  },
  {
   "cell_type": "markdown",
   "metadata": {},
   "source": [
    "### Logistic Regression"
   ]
  },
  {
   "cell_type": "code",
   "execution_count": 60,
   "metadata": {},
   "outputs": [
    {
     "data": {
      "text/plain": [
       "LogisticRegression(C=1.0, class_weight=None, dual=False, fit_intercept=True,\n",
       "          intercept_scaling=1, max_iter=100, multi_class='ovr', n_jobs=1,\n",
       "          penalty='l2', random_state=0, solver='liblinear', tol=0.0001,\n",
       "          verbose=0, warm_start=False)"
      ]
     },
     "execution_count": 60,
     "metadata": {},
     "output_type": "execute_result"
    }
   ],
   "source": [
    "X = X_train.values\n",
    "y = y_train.values\n",
    "lr = LogisticRegression(random_state=0)\n",
    "lr.fit(X, y)"
   ]
  },
  {
   "cell_type": "markdown",
   "metadata": {},
   "source": [
    "#### Accuracy "
   ]
  },
  {
   "cell_type": "code",
   "execution_count": 61,
   "metadata": {},
   "outputs": [
    {
     "name": "stdout",
     "output_type": "stream",
     "text": [
      "Train\n",
      "0.65005359056806\n",
      " \n",
      "Test\n",
      "0.3929336188436831\n"
     ]
    }
   ],
   "source": [
    "predicted_y = lr.predict(X_train.values)\n",
    "print(\"Train\")\n",
    "print(metrics.accuracy_score(y_train.values, predicted_y))\n",
    "print(\" \")\n",
    "\n",
    "predicted_y = lr.predict(X_test.values)\n",
    "print(\"Test\")\n",
    "print(metrics.accuracy_score(y_test.values, predicted_y))"
   ]
  },
  {
   "cell_type": "code",
   "execution_count": 62,
   "metadata": {},
   "outputs": [
    {
     "data": {
      "text/plain": [
       "array([[106,   8,  26,  60,   4],\n",
       "       [ 36,  61,  50,  46,  15],\n",
       "       [ 37,  31,  76,  20,  23],\n",
       "       [ 65,  23,  26,  75,   7],\n",
       "       [ 23,  10,  41,  16,  49]])"
      ]
     },
     "execution_count": 62,
     "metadata": {},
     "output_type": "execute_result"
    }
   ],
   "source": [
    "confusion_matrix(y_test, predicted_y)"
   ]
  },
  {
   "cell_type": "code",
   "execution_count": 63,
   "metadata": {},
   "outputs": [
    {
     "data": {
      "text/plain": [
       "<matplotlib.axes._subplots.AxesSubplot at 0x1a1b5580f0>"
      ]
     },
     "execution_count": 63,
     "metadata": {},
     "output_type": "execute_result"
    },
    {
     "data": {
      "image/png": "[encoded data removed]",
      "text/plain": [
       "<matplotlib.figure.Figure at 0x1a1ad11940>"
      ]
     },
     "metadata": {},
     "output_type": "display_data"
    }
   ],
   "source": [
    "sns.heatmap(pd.DataFrame(data=confusion_matrix(y_test, predicted_y)).apply(lambda x: x / x.sum()), annot=True, linewidths=.5)"
   ]
  },
  {
   "cell_type": "code",
   "execution_count": null,
   "metadata": {},
   "outputs": [],
   "source": []
  },
  {
   "cell_type": "code",
   "execution_count": null,
   "metadata": {},
   "outputs": [],
   "source": []
  }
 ],
 "metadata": {
  "anaconda-cloud": {},
  "kernelspec": {
   "display_name": "Python 3",
   "language": "python",
   "name": "python3"
  },
  "language_info": {
   "codemirror_mode": {
    "name": "ipython",
    "version": 3
   },
   "file_extension": ".py",
   "mimetype": "text/x-python",
   "name": "python",
   "nbconvert_exporter": "python",
   "pygments_lexer": "ipython3",
   "version": "3.6.4"
  }
 },
 "nbformat": 4,
 "nbformat_minor": 2
}
